{
 "cells": [
  {
   "cell_type": "code",
   "execution_count": 31,
   "metadata": {},
   "outputs": [],
   "source": [
    "import pandas as pd\n",
    "from scipy.stats import levene\n",
    "from scipy.stats import ttest_ind\n",
    "from scipy.stats import f_oneway\n",
    "from scipy.stats import chisquare\n",
    "from scipy.stats import chi2_contingency\n",
    "from scipy.stats import chi2"
   ]
  },
  {
   "cell_type": "markdown",
   "metadata": {},
   "source": [
    "## Раздел 02"
   ]
  },
  {
   "cell_type": "markdown",
   "metadata": {},
   "source": [
    "Всемирный доклад ООН о счастье содержит данные об опросе людей в разных странах, в котором они оценивают свой общий уровень счастья, а также уровне удовлетворения в отдельных аспектах. Репрезентативные национальные выборки респондентов просят ответить на ряд вопросов по шкале от нуля до десяти, где десять — это лучшая из возможных жизней, а ноль — худшая. Ответы отдельных респондентов усредняются для получения общего для страны показателя. Попробуем исследовать данные за 2019 год, чтобы лучше понять их структуру. CSV-файл доступен под названием “2019.csv”.\n",
    "\n",
    "Некоторые переменные, доступные в данных:\n",
    "\n",
    "* 'Country or region' - название страны\n",
    "* 'Score' - Уровень индекса счастья\n",
    "* 'GDP per capita' - Уровень ВВП на душу населения"
   ]
  },
  {
   "cell_type": "code",
   "execution_count": 4,
   "metadata": {},
   "outputs": [
    {
     "data": {
      "text/html": [
       "<div>\n",
       "<style scoped>\n",
       "    .dataframe tbody tr th:only-of-type {\n",
       "        vertical-align: middle;\n",
       "    }\n",
       "\n",
       "    .dataframe tbody tr th {\n",
       "        vertical-align: top;\n",
       "    }\n",
       "\n",
       "    .dataframe thead th {\n",
       "        text-align: right;\n",
       "    }\n",
       "</style>\n",
       "<table border=\"1\" class=\"dataframe\">\n",
       "  <thead>\n",
       "    <tr style=\"text-align: right;\">\n",
       "      <th></th>\n",
       "      <th>Overall rank</th>\n",
       "      <th>Country or region</th>\n",
       "      <th>Score</th>\n",
       "      <th>GDP per capita</th>\n",
       "      <th>Social support</th>\n",
       "      <th>Healthy life expectancy</th>\n",
       "      <th>Freedom to make life choices</th>\n",
       "      <th>Generosity</th>\n",
       "      <th>Perceptions of corruption</th>\n",
       "    </tr>\n",
       "  </thead>\n",
       "  <tbody>\n",
       "    <tr>\n",
       "      <th>0</th>\n",
       "      <td>1</td>\n",
       "      <td>Finland</td>\n",
       "      <td>7.769</td>\n",
       "      <td>1.340</td>\n",
       "      <td>1.587</td>\n",
       "      <td>0.986</td>\n",
       "      <td>0.596</td>\n",
       "      <td>0.153</td>\n",
       "      <td>0.393</td>\n",
       "    </tr>\n",
       "    <tr>\n",
       "      <th>1</th>\n",
       "      <td>2</td>\n",
       "      <td>Denmark</td>\n",
       "      <td>7.600</td>\n",
       "      <td>1.383</td>\n",
       "      <td>1.573</td>\n",
       "      <td>0.996</td>\n",
       "      <td>0.592</td>\n",
       "      <td>0.252</td>\n",
       "      <td>0.410</td>\n",
       "    </tr>\n",
       "    <tr>\n",
       "      <th>2</th>\n",
       "      <td>3</td>\n",
       "      <td>Norway</td>\n",
       "      <td>7.554</td>\n",
       "      <td>1.488</td>\n",
       "      <td>1.582</td>\n",
       "      <td>1.028</td>\n",
       "      <td>0.603</td>\n",
       "      <td>0.271</td>\n",
       "      <td>0.341</td>\n",
       "    </tr>\n",
       "    <tr>\n",
       "      <th>3</th>\n",
       "      <td>4</td>\n",
       "      <td>Iceland</td>\n",
       "      <td>7.494</td>\n",
       "      <td>1.380</td>\n",
       "      <td>1.624</td>\n",
       "      <td>1.026</td>\n",
       "      <td>0.591</td>\n",
       "      <td>0.354</td>\n",
       "      <td>0.118</td>\n",
       "    </tr>\n",
       "    <tr>\n",
       "      <th>4</th>\n",
       "      <td>5</td>\n",
       "      <td>Netherlands</td>\n",
       "      <td>7.488</td>\n",
       "      <td>1.396</td>\n",
       "      <td>1.522</td>\n",
       "      <td>0.999</td>\n",
       "      <td>0.557</td>\n",
       "      <td>0.322</td>\n",
       "      <td>0.298</td>\n",
       "    </tr>\n",
       "    <tr>\n",
       "      <th>...</th>\n",
       "      <td>...</td>\n",
       "      <td>...</td>\n",
       "      <td>...</td>\n",
       "      <td>...</td>\n",
       "      <td>...</td>\n",
       "      <td>...</td>\n",
       "      <td>...</td>\n",
       "      <td>...</td>\n",
       "      <td>...</td>\n",
       "    </tr>\n",
       "    <tr>\n",
       "      <th>151</th>\n",
       "      <td>152</td>\n",
       "      <td>Rwanda</td>\n",
       "      <td>3.334</td>\n",
       "      <td>0.359</td>\n",
       "      <td>0.711</td>\n",
       "      <td>0.614</td>\n",
       "      <td>0.555</td>\n",
       "      <td>0.217</td>\n",
       "      <td>0.411</td>\n",
       "    </tr>\n",
       "    <tr>\n",
       "      <th>152</th>\n",
       "      <td>153</td>\n",
       "      <td>Tanzania</td>\n",
       "      <td>3.231</td>\n",
       "      <td>0.476</td>\n",
       "      <td>0.885</td>\n",
       "      <td>0.499</td>\n",
       "      <td>0.417</td>\n",
       "      <td>0.276</td>\n",
       "      <td>0.147</td>\n",
       "    </tr>\n",
       "    <tr>\n",
       "      <th>153</th>\n",
       "      <td>154</td>\n",
       "      <td>Afghanistan</td>\n",
       "      <td>3.203</td>\n",
       "      <td>0.350</td>\n",
       "      <td>0.517</td>\n",
       "      <td>0.361</td>\n",
       "      <td>0.000</td>\n",
       "      <td>0.158</td>\n",
       "      <td>0.025</td>\n",
       "    </tr>\n",
       "    <tr>\n",
       "      <th>154</th>\n",
       "      <td>155</td>\n",
       "      <td>Central African Republic</td>\n",
       "      <td>3.083</td>\n",
       "      <td>0.026</td>\n",
       "      <td>0.000</td>\n",
       "      <td>0.105</td>\n",
       "      <td>0.225</td>\n",
       "      <td>0.235</td>\n",
       "      <td>0.035</td>\n",
       "    </tr>\n",
       "    <tr>\n",
       "      <th>155</th>\n",
       "      <td>156</td>\n",
       "      <td>South Sudan</td>\n",
       "      <td>2.853</td>\n",
       "      <td>0.306</td>\n",
       "      <td>0.575</td>\n",
       "      <td>0.295</td>\n",
       "      <td>0.010</td>\n",
       "      <td>0.202</td>\n",
       "      <td>0.091</td>\n",
       "    </tr>\n",
       "  </tbody>\n",
       "</table>\n",
       "<p>156 rows × 9 columns</p>\n",
       "</div>"
      ],
      "text/plain": [
       "     Overall rank         Country or region  Score  GDP per capita  \\\n",
       "0               1                   Finland  7.769           1.340   \n",
       "1               2                   Denmark  7.600           1.383   \n",
       "2               3                    Norway  7.554           1.488   \n",
       "3               4                   Iceland  7.494           1.380   \n",
       "4               5               Netherlands  7.488           1.396   \n",
       "..            ...                       ...    ...             ...   \n",
       "151           152                    Rwanda  3.334           0.359   \n",
       "152           153                  Tanzania  3.231           0.476   \n",
       "153           154               Afghanistan  3.203           0.350   \n",
       "154           155  Central African Republic  3.083           0.026   \n",
       "155           156               South Sudan  2.853           0.306   \n",
       "\n",
       "     Social support  Healthy life expectancy  Freedom to make life choices  \\\n",
       "0             1.587                    0.986                         0.596   \n",
       "1             1.573                    0.996                         0.592   \n",
       "2             1.582                    1.028                         0.603   \n",
       "3             1.624                    1.026                         0.591   \n",
       "4             1.522                    0.999                         0.557   \n",
       "..              ...                      ...                           ...   \n",
       "151           0.711                    0.614                         0.555   \n",
       "152           0.885                    0.499                         0.417   \n",
       "153           0.517                    0.361                         0.000   \n",
       "154           0.000                    0.105                         0.225   \n",
       "155           0.575                    0.295                         0.010   \n",
       "\n",
       "     Generosity  Perceptions of corruption  \n",
       "0         0.153                      0.393  \n",
       "1         0.252                      0.410  \n",
       "2         0.271                      0.341  \n",
       "3         0.354                      0.118  \n",
       "4         0.322                      0.298  \n",
       "..          ...                        ...  \n",
       "151       0.217                      0.411  \n",
       "152       0.276                      0.147  \n",
       "153       0.158                      0.025  \n",
       "154       0.235                      0.035  \n",
       "155       0.202                      0.091  \n",
       "\n",
       "[156 rows x 9 columns]"
      ]
     },
     "execution_count": 4,
     "metadata": {},
     "output_type": "execute_result"
    }
   ],
   "source": [
    "df = pd.read_csv('2019.csv')"
   ]
  },
  {
   "cell_type": "markdown",
   "metadata": {},
   "source": [
    "A: Какое максимальное и минимальное значение индекса счастья в 2019 году?"
   ]
  },
  {
   "cell_type": "code",
   "execution_count": 13,
   "metadata": {},
   "outputs": [
    {
     "name": "stdout",
     "output_type": "stream",
     "text": [
      "7.769\n",
      "2.853\n"
     ]
    }
   ],
   "source": [
    "print(f\"{df['Score'].max()}\\n{df['Score'].min()}\")"
   ]
  },
  {
   "cell_type": "markdown",
   "metadata": {},
   "source": [
    "B: Какой средний уровень счастья среди всех стран?"
   ]
  },
  {
   "cell_type": "code",
   "execution_count": 14,
   "metadata": {},
   "outputs": [
    {
     "name": "stdout",
     "output_type": "stream",
     "text": [
      "5.407096153846155\n"
     ]
    }
   ],
   "source": [
    "print(df['Score'].mean())"
   ]
  },
  {
   "cell_type": "markdown",
   "metadata": {},
   "source": [
    "C: Каков медианный уровень счастья среди всех стран?"
   ]
  },
  {
   "cell_type": "code",
   "execution_count": 15,
   "metadata": {},
   "outputs": [
    {
     "name": "stdout",
     "output_type": "stream",
     "text": [
      "5.3795\n"
     ]
    }
   ],
   "source": [
    "print(df['Score'].median())"
   ]
  },
  {
   "cell_type": "markdown",
   "metadata": {},
   "source": [
    "D: Какова мода среди всех стран?"
   ]
  },
  {
   "cell_type": "code",
   "execution_count": 17,
   "metadata": {},
   "outputs": [
    {
     "name": "stdout",
     "output_type": "stream",
     "text": [
      "5.208\n"
     ]
    }
   ],
   "source": [
    "print(df['Score'].mode()[0])"
   ]
  },
  {
   "cell_type": "markdown",
   "metadata": {},
   "source": [
    "E: Каково стандартное отклонение среди всех стран?"
   ]
  },
  {
   "cell_type": "code",
   "execution_count": 18,
   "metadata": {},
   "outputs": [
    {
     "name": "stdout",
     "output_type": "stream",
     "text": [
      "1.1131198687956712\n"
     ]
    }
   ],
   "source": [
    "print(df['Score'].std())"
   ]
  },
  {
   "cell_type": "markdown",
   "metadata": {},
   "source": [
    "F: Найдите десять самых счастливых стран\n",
    "\n",
    "Отсортируйте наблюдения по уровню счастья, затем выберите единственную колонку с названиями регионов, а потом выведите первые 10 наблюдений."
   ]
  },
  {
   "cell_type": "code",
   "execution_count": 24,
   "metadata": {},
   "outputs": [
    {
     "name": "stdout",
     "output_type": "stream",
     "text": [
      "['Finland', 'Denmark', 'Norway', 'Iceland', 'Netherlands', 'Switzerland', 'Sweden', 'New Zealand', 'Canada', 'Austria']\n"
     ]
    }
   ],
   "source": [
    "print(df.sort_values(by=['Score'], ascending=False)[:10]['Country or region'].to_list())"
   ]
  },
  {
   "cell_type": "markdown",
   "metadata": {},
   "source": [
    "G: Подсчитайте суммарный ВВП всех стран."
   ]
  },
  {
   "cell_type": "code",
   "execution_count": 25,
   "metadata": {},
   "outputs": [
    {
     "data": {
      "text/plain": [
       "141.203"
      ]
     },
     "execution_count": 25,
     "metadata": {},
     "output_type": "execute_result"
    }
   ],
   "source": [
    "print(df['GDP per capita'].sum())"
   ]
  },
  {
   "cell_type": "markdown",
   "metadata": {},
   "source": [
    "H: Подсчитайте суммарный ВВП первых десяти стран."
   ]
  },
  {
   "cell_type": "code",
   "execution_count": 31,
   "metadata": {},
   "outputs": [
    {
     "name": "stdout",
     "output_type": "stream",
     "text": [
      "13.87\n"
     ]
    }
   ],
   "source": [
    "print(df.sort_values(by=['Score'], ascending=False)[:10]['GDP per capita'].sum())"
   ]
  },
  {
   "cell_type": "markdown",
   "metadata": {},
   "source": [
    "## Раздел 03"
   ]
  },
  {
   "cell_type": "markdown",
   "metadata": {},
   "source": [
    "Самый популярный писатель\n",
    "\n",
    "В этой и в следующих задачах мы используем набор данных с самыми популярными книгами на Amazon. Мы добавили в него несколько дополнительных переменных. CSV-файл доступен под названием “books_prep.csv”."
   ]
  },
  {
   "cell_type": "code",
   "execution_count": 3,
   "metadata": {},
   "outputs": [],
   "source": [
    "df = pd.read_csv('books_prep.csv')"
   ]
  },
  {
   "cell_type": "markdown",
   "metadata": {},
   "source": [
    "A: Выведите имя самого популярного писателя в наборе данных"
   ]
  },
  {
   "cell_type": "code",
   "execution_count": 17,
   "metadata": {},
   "outputs": [
    {
     "name": "stdout",
     "output_type": "stream",
     "text": [
      "Jeff Kinney\n"
     ]
    }
   ],
   "source": [
    "print(df['Author'].describe()['top'])"
   ]
  },
  {
   "cell_type": "markdown",
   "metadata": {},
   "source": [
    "Среднее значение рейтинга 1\n",
    "\n",
    "Определите средние значения рейтинга для «дешёвых» и «дорогих» книг.\n",
    "Попробуем исследовать этот набор данных. Мы создали переменную “Price (Above Average)”, которая содержит “Yes”, если цена книги больше средней, и “No”, если меньше.\n",
    "\n",
    "Мы предполагаем, что рейтинг книги не зависит от её стоимости. Давайте проверим эту гипотезу. Начнём с того, что выведем средние значения пользовательского рейтинга для каждой из групп.\n",
    "\n",
    "Вам необходимо загрузить набор данных и напечатать средний рейтинг для «дорогих» книг."
   ]
  },
  {
   "cell_type": "code",
   "execution_count": 25,
   "metadata": {},
   "outputs": [
    {
     "data": {
      "text/plain": [
       "4.560103626943005"
      ]
     },
     "execution_count": 25,
     "metadata": {},
     "output_type": "execute_result"
    }
   ],
   "source": [
    "print(df.loc[df['Price (Above Average)']=='Yes']['User Rating'].mean())"
   ]
  },
  {
   "cell_type": "markdown",
   "metadata": {},
   "source": [
    "А теперь вам необходимо загрузить набор данных и напечатать средний рейтинг для «дешёвых» книг."
   ]
  },
  {
   "cell_type": "code",
   "execution_count": 26,
   "metadata": {},
   "outputs": [
    {
     "name": "stdout",
     "output_type": "stream",
     "text": [
      "4.649859943977591\n"
     ]
    }
   ],
   "source": [
    "print(df.loc[df['Price (Above Average)']=='No']['User Rating'].mean())"
   ]
  },
  {
   "cell_type": "markdown",
   "metadata": {},
   "source": [
    "P-value\n",
    "\n",
    "Проведите тест для определения равенства дисперсий. Выведите значение p-value.\n",
    "Прежде чем сравнивать средние, нам необходимо сравнить дисперсии. Для этого мы можем использовать критерий Левене.\n",
    "\n",
    "Вам необходимо вывести только значение p-value. Попробуйте немного изменить функцию `levene('add something here').pvalue`"
   ]
  },
  {
   "cell_type": "code",
   "execution_count": 34,
   "metadata": {},
   "outputs": [
    {
     "data": {
      "text/plain": [
       "0.059639718981464994"
      ]
     },
     "execution_count": 34,
     "metadata": {},
     "output_type": "execute_result"
    }
   ],
   "source": [
    "exp = df.loc[df['Price (Above Average)']=='Yes'].sample(100)['User Rating']\n",
    "cheap = df.loc[df['Price (Above Average)']=='No'].sample(100)['User Rating']\n",
    "levene(exp, cheap).pvalue"
   ]
  },
  {
   "cell_type": "markdown",
   "metadata": {},
   "source": [
    "Равенство средних\n",
    "\n",
    "Проведите тест для определения равенства средних. Выведите значение p-value\n",
    "Теперь давайте попробуем понять, является ли значимым то различие между средними, которое мы увидели. Вам снова необходимо вывести только значение p-value. Модифицировать метод необходимо аналогично предыдущей задаче."
   ]
  },
  {
   "cell_type": "code",
   "execution_count": 37,
   "metadata": {},
   "outputs": [
    {
     "name": "stdout",
     "output_type": "stream",
     "text": [
      "0.0014972028104128605\n"
     ]
    }
   ],
   "source": [
    "print(ttest_ind(exp, cheap).pvalue)"
   ]
  },
  {
   "cell_type": "markdown",
   "metadata": {},
   "source": [
    "ANOVA\n",
    "\n",
    "Проведите тест ANOVA. Выведите значение p-value\n",
    "\n",
    "Ещё в этом примере мы создали переменную “User Rating (Round)”, которая содержит округлённые до целого значения среднего пользовательского рейтинга. Мы предполагаем, что рейтинг книги для каждой из групп, — у нас получилось их три, — зависит от числа рецензий (на хорошие книги люди охотнее пишут рецензии). Давайте проверим эту гипотезу с помощью теста ANOVA."
   ]
  },
  {
   "cell_type": "code",
   "execution_count": 57,
   "metadata": {},
   "outputs": [
    {
     "name": "stdout",
     "output_type": "stream",
     "text": [
      "0.2973862975123458\n"
     ]
    }
   ],
   "source": [
    "# df['User Rating (Round)'].value_counts()\n",
    "round_5 = df.loc[df['User Rating (Round)']==5]['Reviews']\n",
    "round_4 = df.loc[df['User Rating (Round)']==4]['Reviews']\n",
    "round_3 = df.loc[df['User Rating (Round)']==3]['Reviews']\n",
    "print(f_oneway(round_5, round_4, round_3).pvalue)"
   ]
  },
  {
   "cell_type": "markdown",
   "metadata": {},
   "source": [
    "тест категорий в пандасе"
   ]
  },
  {
   "cell_type": "code",
   "execution_count": 66,
   "metadata": {},
   "outputs": [],
   "source": [
    "children = pd.DataFrame({\"name\":[\"Roman\",\"Anna\",\"Dmitry\"]\n",
    ",\"weight\":[3.4,3.5,2.9]\n",
    ",\"gender\":[\"male\",\"female\",\"male\"]\n",
    "})"
   ]
  },
  {
   "cell_type": "code",
   "execution_count": 65,
   "metadata": {},
   "outputs": [
    {
     "name": "stdout",
     "output_type": "stream",
     "text": [
      "<class 'pandas.core.frame.DataFrame'>\n",
      "RangeIndex: 3 entries, 0 to 2\n",
      "Data columns (total 3 columns):\n",
      " #   Column  Non-Null Count  Dtype   \n",
      "---  ------  --------------  -----   \n",
      " 0   name    3 non-null      object  \n",
      " 1   weight  3 non-null      float64 \n",
      " 2   gender  3 non-null      category\n",
      "dtypes: category(1), float64(1), object(1)\n",
      "memory usage: 303.0+ bytes\n"
     ]
    }
   ],
   "source": [
    "children['gender'] = children['gender'].astype('category')\n",
    "children.info()"
   ]
  },
  {
   "cell_type": "code",
   "execution_count": 67,
   "metadata": {},
   "outputs": [
    {
     "name": "stdout",
     "output_type": "stream",
     "text": [
      "<class 'pandas.core.frame.DataFrame'>\n",
      "RangeIndex: 3 entries, 0 to 2\n",
      "Data columns (total 3 columns):\n",
      " #   Column  Non-Null Count  Dtype  \n",
      "---  ------  --------------  -----  \n",
      " 0   name    3 non-null      object \n",
      " 1   weight  3 non-null      float64\n",
      " 2   gender  3 non-null      int64  \n",
      "dtypes: float64(1), int64(1), object(1)\n",
      "memory usage: 200.0+ bytes\n"
     ]
    }
   ],
   "source": [
    "children['gender'].replace(['male','female'],[0,1],inplace = True)\n",
    "children.info()"
   ]
  },
  {
   "cell_type": "code",
   "execution_count": 68,
   "metadata": {},
   "outputs": [
    {
     "data": {
      "text/html": [
       "<div>\n",
       "<style scoped>\n",
       "    .dataframe tbody tr th:only-of-type {\n",
       "        vertical-align: middle;\n",
       "    }\n",
       "\n",
       "    .dataframe tbody tr th {\n",
       "        vertical-align: top;\n",
       "    }\n",
       "\n",
       "    .dataframe thead th {\n",
       "        text-align: right;\n",
       "    }\n",
       "</style>\n",
       "<table border=\"1\" class=\"dataframe\">\n",
       "  <thead>\n",
       "    <tr style=\"text-align: right;\">\n",
       "      <th></th>\n",
       "      <th>name</th>\n",
       "      <th>weight</th>\n",
       "      <th>gender</th>\n",
       "    </tr>\n",
       "  </thead>\n",
       "  <tbody>\n",
       "    <tr>\n",
       "      <th>0</th>\n",
       "      <td>Roman</td>\n",
       "      <td>3.4</td>\n",
       "      <td>0</td>\n",
       "    </tr>\n",
       "    <tr>\n",
       "      <th>1</th>\n",
       "      <td>Anna</td>\n",
       "      <td>3.5</td>\n",
       "      <td>1</td>\n",
       "    </tr>\n",
       "    <tr>\n",
       "      <th>2</th>\n",
       "      <td>Dmitry</td>\n",
       "      <td>2.9</td>\n",
       "      <td>0</td>\n",
       "    </tr>\n",
       "  </tbody>\n",
       "</table>\n",
       "</div>"
      ],
      "text/plain": [
       "     name  weight  gender\n",
       "0   Roman     3.4       0\n",
       "1    Anna     3.5       1\n",
       "2  Dmitry     2.9       0"
      ]
     },
     "execution_count": 68,
     "metadata": {},
     "output_type": "execute_result"
    }
   ],
   "source": [
    "children"
   ]
  },
  {
   "cell_type": "markdown",
   "metadata": {},
   "source": [
    "## Раздел 04"
   ]
  },
  {
   "cell_type": "markdown",
   "metadata": {},
   "source": [
    "В датасете содержатся такие переменные как время на занятия, самостоятельное обучение, просмотр страниц в социальных сетях в день, а также соц-демографические характеристики учащихся (возраст, регион проживания) и другие."
   ]
  },
  {
   "cell_type": "code",
   "execution_count": 69,
   "metadata": {},
   "outputs": [],
   "source": [
    "df = pd.read_csv('COVID-19 SSR.csv')"
   ]
  },
  {
   "cell_type": "markdown",
   "metadata": {},
   "source": [
    "Вам необходимо вывести наиболее частый тип переменных встречаемый в датасете."
   ]
  },
  {
   "cell_type": "code",
   "execution_count": 183,
   "metadata": {},
   "outputs": [
    {
     "data": {
      "text/plain": [
       "dtype('O')"
      ]
     },
     "execution_count": 183,
     "metadata": {},
     "output_type": "execute_result"
    }
   ],
   "source": [
    "df.dtypes.value_counts().index.to_list()[0]"
   ]
  },
  {
   "cell_type": "markdown",
   "metadata": {},
   "source": [
    "Изменяем капслок\n",
    "\n",
    "Не всегда данные в одной колонке имеют одинаковое оформление. Например, одно значение написано буквами верхнего регистра, а другое - нижнего. Для приведения значений в категориальных переменных к одному виду существует набор функций.\n",
    "\n",
    "title() - преобразовывает слова в формате title, где первое слово в строке начинается с символа верхнего регистра, а остальные приводятся к символам нижнего регистра (Например, \"привет, студенты!\" преобразуется в \"Привет, студенты!\").\n",
    "\n",
    "В датасете влияния COVID-19 на образование, психическое здоровье и распорядок дня учащихся у переменной 'Rating of Online Class experience' некоторые значения записаны верхним регистром.\n",
    "\n",
    "Вам необходимо привести значения переменной 'Rating of Online Class experience' к одному виду с помощью title().\n"
   ]
  },
  {
   "cell_type": "markdown",
   "metadata": {},
   "source": [
    "В результате выведите первые пять значений переменной после преобразования."
   ]
  },
  {
   "cell_type": "code",
   "execution_count": 191,
   "metadata": {},
   "outputs": [
    {
     "name": "stdout",
     "output_type": "stream",
     "text": [
      "0         Good\n",
      "1    Excellent\n",
      "2    Very Poor\n",
      "3    Very Poor\n",
      "4         Good\n",
      "Name: Rating of Online Class experience, dtype: object\n"
     ]
    }
   ],
   "source": [
    "print(df['Rating of Online Class experience'].str.title()[:5])"
   ]
  },
  {
   "cell_type": "markdown",
   "metadata": {},
   "source": [
    "Сколько спят учащиеся?\n",
    "\n",
    "В нашем датасете есть переменная, указывающая на среднее количество сна в день `['Time spent on sleep']`. Для здорового человека нормально спать 7-8 часов. Нам необходимо создать новую переменную и вывести сколько учащихся спят больше или меньше."
   ]
  },
  {
   "cell_type": "code",
   "execution_count": 18,
   "metadata": {},
   "outputs": [],
   "source": [
    "df = pd.read_csv('COVID-19 Survey Student Responses.csv')"
   ]
  },
  {
   "cell_type": "code",
   "execution_count": 8,
   "metadata": {},
   "outputs": [
    {
     "name": "stdout",
     "output_type": "stream",
     "text": [
      "785\n"
     ]
    }
   ],
   "source": [
    "df = df.assign(sleep = ['norm' if 7<i<9 else 'low' for i in df['Time spent on sleep']])\n",
    "print(df['sleep'].value_counts()['low'])"
   ]
  },
  {
   "cell_type": "markdown",
   "metadata": {},
   "source": [
    "Часы в день\n",
    "\n",
    "Мы обратим внимание на переменную `'Time spent on TV'`, которая содержит в себе не только числовые показатели, но и категориальные значения (`object`), такие как `\"N\", \"n\", \"No tv\"`. Для анализа переменной необходимо изменить другие значения помимо числовых на \"0\". \n",
    "\n",
    "Далее после обработки датасета выведите тип переменной."
   ]
  },
  {
   "cell_type": "code",
   "execution_count": 9,
   "metadata": {},
   "outputs": [
    {
     "data": {
      "text/plain": [
       "dtype('float64')"
      ]
     },
     "execution_count": 9,
     "metadata": {},
     "output_type": "execute_result"
    }
   ],
   "source": [
    "searchfor = [\"N\", \"n\", \"No tv\"]\n",
    "# df['Time spent on TV update'] = df['Time spent on TV'].apply(lambda x: 0.0 if any(i in x for i in searchfor) else x)\n",
    "df['Time spent on TV update'] = pd.to_numeric(df['Time spent on TV'], errors=\"coerce\")\n",
    "df['Time spent on TV update'] = df['Time spent on TV update'].fillna(0)\n",
    "df['Time spent on TV update'].dtype"
   ]
  },
  {
   "cell_type": "markdown",
   "metadata": {},
   "source": [
    "Взаимосвязано ли количество сна и время, проведенное в социальных сетях?\n",
    "\n",
    "Для ответа на данный вопрос мы будем работать с двумя переменными `'Time spent on sleep'` и `'Time spent on social media'`. Мы хотим выяснить связано ли недосыпание учащихся с временем, проведенным ими в социальных сетях.\n",
    "\n",
    "В начале перекодируйте переменные на бинарные категории: `'normal'` и `'not normal'`. Нормальное количество сна для людей – больше 7 часов. Нормальное время, проведенное в сети – это меньше 2 часов в день. \n",
    "\n",
    "Перекодируйте переменные, а затем воспользуйтесь результатом Хи-теста и выведите результат Хи-квадрата."
   ]
  },
  {
   "cell_type": "code",
   "execution_count": 38,
   "metadata": {},
   "outputs": [],
   "source": [
    "df['Time spent on sleep binary'] = df['Time spent on sleep'].apply(lambda x: 'normal' if x >= 7 else 'not normal')\n",
    "df['Time spent on social media binary'] = df['Time spent on social media'].apply(lambda x: 'normal' if x < 2 else 'not normal')"
   ]
  },
  {
   "cell_type": "code",
   "execution_count": 40,
   "metadata": {},
   "outputs": [
    {
     "name": "stdout",
     "output_type": "stream",
     "text": [
      "4.0632496096156885\n"
     ]
    }
   ],
   "source": [
    "cross_tab = pd.crosstab(df['Time spent on sleep binary'], df['Time spent on social media binary'])\n",
    "chi2_v, p_v, _, _ = chi2_contingency(cross_tab)\n",
    "print(chi2_v)"
   ]
  },
  {
   "cell_type": "markdown",
   "metadata": {},
   "source": [
    "Взаимосвязано ли количество сна и время, проведенное на в социальных сетях? 2.0\n",
    "\n",
    "Мы хотим выяснить, связано ли недосыпание учащихся с временем, проведенным ими в социальных сетях.\n",
    "\n",
    "В начале перекодируйте переменные на бинарные категории: `'normal'` и `'not normal'`. Нормальное количество сна для людей – больше 7 часов. Нормальное время, проведенное в сети –это меньше 2 часов в день. Перекодируйте переменные, а затем воспользуйтесь результатом Хи-теста и выведите результат Хи-квадрата.\n",
    "\n",
    "Напишите аналогичный код из предыдущей задачи. (Рассчитайте Хи-квадрат для переменных `'Time spent on sleep'` и `'Time spent on social media'`) и выведите результат p-value."
   ]
  },
  {
   "cell_type": "code",
   "execution_count": 41,
   "metadata": {},
   "outputs": [
    {
     "name": "stdout",
     "output_type": "stream",
     "text": [
      "0.04382608418680563\n"
     ]
    }
   ],
   "source": [
    "print(p_v)"
   ]
  },
  {
   "cell_type": "markdown",
   "metadata": {},
   "source": [
    "Замена значений переменных с одних на другие\n",
    "\n",
    "Для удобной работы категориальные переменные перекодируют в числовые. В этой задаче мы будем работать с бинарной переменной `'Health issue during lockdown'`.\n",
    "\n",
    "Перекодируйте значения переменной `\"YES\"` и `\"NO\"`, на `\"1\"` и `\"0\"`, соответственно.\n",
    "\n",
    "В выдаче выведите количество значений по данной переменной."
   ]
  },
  {
   "cell_type": "code",
   "execution_count": 51,
   "metadata": {},
   "outputs": [
    {
     "data": {
      "text/plain": [
       "0    1021\n",
       "1     161\n",
       "Name: Health issue during lockdown binary, dtype: int64"
      ]
     },
     "execution_count": 51,
     "metadata": {},
     "output_type": "execute_result"
    }
   ],
   "source": [
    "df['Health issue during lockdown binary'] = df['Health issue during lockdown'].apply(lambda x: 1 if x == 'YES' else 0)\n",
    "df['Health issue during lockdown binary'].value_counts()"
   ]
  },
  {
   "cell_type": "markdown",
   "metadata": {},
   "source": [
    "Сколько читают учащиеся, справляясь со стрессом?\n",
    "\n",
    "Чтобы понять находятся ли определенное слово, символ или другой показатель в значениях переменных, можно воспользоваться функцией contains(). Подробно об этой функции можно прочесть по ссылке https://pandas.pydata.org/pandas-docs/stable/reference/api/pandas.Series.str.contains.html. В этой задаче вы будете работать с переменной `'Stress busters'`.\n",
    "\n",
    "Выведите количество учащихся, которые используют книги в качестве профилактики борьбы со стрессом (встречаемость 'book' в значениях переменной)."
   ]
  },
  {
   "cell_type": "code",
   "execution_count": 61,
   "metadata": {},
   "outputs": [
    {
     "data": {
      "text/plain": [
       "85"
      ]
     },
     "execution_count": 61,
     "metadata": {},
     "output_type": "execute_result"
    }
   ],
   "source": [
    "df['Stress busters'].str.contains('book').value_counts()[1]"
   ]
  },
  {
   "cell_type": "markdown",
   "metadata": {},
   "source": [
    "Самая популярная платформа среди социльных сетей\n",
    "\n",
    "Определите наиболее популярную медиаплатформу в социальных сетях. (переменная `'Prefered social media platform'`)\n",
    "\n",
    "Отфильтруйте пользователей, которые используют эту платформу для социальной сети и вычислите, в среднем сколько времени в день проводят в социальных медиа (переменная `'Time spent on social media'`) пользователи, которые предпочитают популярную социальную платформу. \n",
    "\n",
    "Результат округлите до сотых."
   ]
  },
  {
   "cell_type": "code",
   "execution_count": 72,
   "metadata": {},
   "outputs": [
    {
     "data": {
      "text/plain": [
       "2.91"
      ]
     },
     "execution_count": 72,
     "metadata": {},
     "output_type": "execute_result"
    }
   ],
   "source": [
    "most_popular = df['Prefered social media platform'].mode()[0]\n",
    "df.loc[df['Prefered social media platform']==most_popular]['Time spent on social media'].mean().round(2)"
   ]
  },
  {
   "cell_type": "markdown",
   "metadata": {},
   "source": [
    "Кто проводит больше времени в социальных медиа?\n",
    "\n",
    "В предыдущей задаче мы выяснили, что пользователи, которые предпочитают Инстаграм, используют социальные медиа в среднем около 2.91 часа.\n",
    "\n",
    "Чтобы понять насколько пользователи Инстаграма отличаются от пользователей, отдающих предпочтения другой социальной сети, необходимо сделать подобную аналитику.\n",
    "\n",
    "Определите платформу, в которой пользователи проводят больше всего времени в среднем.\n",
    "\n",
    "Результат выведите через пробел. В начале укажите название предпочитаемой социальной сети, а затем среднее количество времени, затрачиваемое на пользование социальными сетями через пробел. Результат округлите до сотых."
   ]
  },
  {
   "cell_type": "code",
   "execution_count": 113,
   "metadata": {},
   "outputs": [
    {
     "name": "stdout",
     "output_type": "stream",
     "text": [
      "Talklife 10.0\n"
     ]
    }
   ],
   "source": [
    "index_str = df[['Prefered social media platform','Time spent on social media']].groupby(by = 'Prefered social media platform').mean().round(2).sort_values('Time spent on social media', ascending=False)[:1].index[0]\n",
    "value_str = df[['Prefered social media platform','Time spent on social media']].groupby(by = 'Prefered social media platform').mean().round(2).max()[0]\n",
    "\n",
    "# index_str\n",
    "\n",
    "print(index_str, value_str)"
   ]
  },
  {
   "cell_type": "code",
   "execution_count": null,
   "metadata": {},
   "outputs": [],
   "source": []
  }
 ],
 "metadata": {
  "kernelspec": {
   "display_name": "study_env",
   "language": "python",
   "name": "python3"
  },
  "language_info": {
   "codemirror_mode": {
    "name": "ipython",
    "version": 3
   },
   "file_extension": ".py",
   "mimetype": "text/x-python",
   "name": "python",
   "nbconvert_exporter": "python",
   "pygments_lexer": "ipython3",
   "version": "3.11.0"
  }
 },
 "nbformat": 4,
 "nbformat_minor": 2
}
